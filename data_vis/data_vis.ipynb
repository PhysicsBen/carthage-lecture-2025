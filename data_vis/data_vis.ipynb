{
 "cells": [
  {
   "cell_type": "code",
   "execution_count": 2,
   "metadata": {},
   "outputs": [],
   "source": [
    "import os\n",
    "import pandas as pd\n",
    "from matplotlib import pyplot as plt\n",
    "from plotly import express as px\n",
    "import seaborn as sns\n",
    "\n",
    "\n",
    "import kagglehub"
   ]
  },
  {
   "cell_type": "markdown",
   "metadata": {},
   "source": [
    "## Download data sets"
   ]
  },
  {
   "cell_type": "markdown",
   "metadata": {},
   "source": [
    "NOTE: You will need to register with Kaggle and create a kaggle.jcon file that contains your username and key in the following format: `{\"username\":\"<user_name>\", \"key\":\"<kaggle_key>\"}`"
   ]
  },
  {
   "cell_type": "code",
   "execution_count": 3,
   "metadata": {},
   "outputs": [
    {
     "name": "stdout",
     "output_type": "stream",
     "text": [
      "Warning: Looks like you're using an outdated `kagglehub` version (installed: 0.3.11), please consider upgrading to the latest version (0.3.12).\n",
      "Warning: Looks like you're using an outdated `kagglehub` version (installed: 0.3.11), please consider upgrading to the latest version (0.3.12).\n",
      "C:\\Users\\bpburch\\.cache\\kagglehub\\datasets\\adilshamim8\\student-depression-dataset\\versions\\1\n",
      "C:\\Users\\bpburch\\.cache\\kagglehub\\datasets\\maharshipandya\\-spotify-tracks-dataset\\versions\\1\n"
     ]
    }
   ],
   "source": [
    "datasets = []\n",
    "#adult depression\n",
    "# datasets.append(kagglehub.dataset_download(\"sonawanelalitsunil/adult-depression-lghc-indicator\"))\n",
    "\n",
    "# #mental health dataset\n",
    "# datasets.append(kagglehub.dataset_download(\"bhavikjikadara/mental-health-dataset\"))\n",
    "\n",
    "#student depression\n",
    "datasets.append(kagglehub.dataset_download(\"adilshamim8/student-depression-dataset\",))\n",
    "\n",
    "# #student mental health\n",
    "# datasets.append(kagglehub.dataset_download(\"shariful07/student-mental-health\"))\n",
    "\n",
    "# #student perfromance factors\n",
    "# datasets.append(kagglehub.dataset_download(\"lainguyn123/student-performance-factors\"))\n",
    "\n",
    "# #student alcohol consumption\n",
    "# datasets.append(kagglehub.dataset_download(\"uciml/student-alcohol-consumption\"))\n",
    "\n",
    "# #videogame sales\n",
    "# datasets.append(kagglehub.dataset_download(\"zahidmughal2343/video-games-sale\"))\n",
    "\n",
    "# #math student perfromance\n",
    "# datasets.append(kagglehub.dataset_download(\"adilshamim8/math-students\"))\n",
    "\n",
    "# #supermarket sales\n",
    "# datasets.append(kagglehub.dataset_download(\"aungpyaeap/supermarket-sales\"))\n",
    "\n",
    "# #spotify tracks\n",
    "datasets.append(kagglehub.dataset_download(\"maharshipandya/-spotify-tracks-dataset\"))\n",
    "\n",
    "for dataset in datasets:\n",
    "    print(dataset)"
   ]
  },
  {
   "cell_type": "code",
   "execution_count": 4,
   "metadata": {},
   "outputs": [
    {
     "name": "stdout",
     "output_type": "stream",
     "text": [
      "dict_keys(['student-depression-dataset', '-spotify-tracks-dataset'])\n"
     ]
    }
   ],
   "source": [
    "# Initialize an empty dictionary to store the datasets\n",
    "datasets_dict = {}\n",
    "\n",
    "for dataset_path in datasets:\n",
    "    # Extract the dataset name from the path\n",
    "    dataset_name = os.path.basename(os.path.dirname(os.path.dirname(dataset_path)))\n",
    "    \n",
    "    # List all files in the dataset directory\n",
    "    csv_files = [file for file in os.listdir(dataset_path) if file.endswith('.csv')]\n",
    "    \n",
    "    # Load the CSV files into dataframes\n",
    "    if len(csv_files) == 1:\n",
    "        # If there's only one CSV, load it as a single dataframe\n",
    "        datasets_dict[dataset_name] = pd.read_csv(os.path.join(dataset_path, csv_files[0]))\n",
    "    else:\n",
    "        # If there are multiple CSVs, load them into a list of dataframes\n",
    "        datasets_dict[dataset_name] = [pd.read_csv(os.path.join(dataset_path, csv)) for csv in csv_files]\n",
    "\n",
    "# Print the keys of the dictionary to verify\n",
    "print(datasets_dict.keys())"
   ]
  },
  {
   "cell_type": "code",
   "execution_count": 5,
   "metadata": {},
   "outputs": [
    {
     "data": {
      "application/vnd.microsoft.datawrangler.viewer.v0+json": {
       "columns": [
        {
         "name": "index",
         "rawType": "int64",
         "type": "integer"
        },
        {
         "name": "id",
         "rawType": "int64",
         "type": "integer"
        },
        {
         "name": "Gender",
         "rawType": "object",
         "type": "string"
        },
        {
         "name": "Age",
         "rawType": "float64",
         "type": "float"
        },
        {
         "name": "City",
         "rawType": "object",
         "type": "string"
        },
        {
         "name": "Profession",
         "rawType": "object",
         "type": "string"
        },
        {
         "name": "Academic Pressure",
         "rawType": "float64",
         "type": "float"
        },
        {
         "name": "Work Pressure",
         "rawType": "float64",
         "type": "float"
        },
        {
         "name": "CGPA",
         "rawType": "float64",
         "type": "float"
        },
        {
         "name": "Study Satisfaction",
         "rawType": "float64",
         "type": "float"
        },
        {
         "name": "Job Satisfaction",
         "rawType": "float64",
         "type": "float"
        },
        {
         "name": "Sleep Duration",
         "rawType": "object",
         "type": "string"
        },
        {
         "name": "Dietary Habits",
         "rawType": "object",
         "type": "string"
        },
        {
         "name": "Degree",
         "rawType": "object",
         "type": "string"
        },
        {
         "name": "Have you ever had suicidal thoughts ?",
         "rawType": "object",
         "type": "string"
        },
        {
         "name": "Work/Study Hours",
         "rawType": "float64",
         "type": "float"
        },
        {
         "name": "Financial Stress",
         "rawType": "object",
         "type": "string"
        },
        {
         "name": "Family History of Mental Illness",
         "rawType": "object",
         "type": "string"
        },
        {
         "name": "Depression",
         "rawType": "int64",
         "type": "integer"
        }
       ],
       "conversionMethod": "pd.DataFrame",
       "ref": "ff6f8a6f-aa30-49aa-a6a2-611f77dfb387",
       "rows": [
        [
         "0",
         "2",
         "Male",
         "33.0",
         "Visakhapatnam",
         "Student",
         "5.0",
         "0.0",
         "8.97",
         "2.0",
         "0.0",
         "'5-6 hours'",
         "Healthy",
         "B.Pharm",
         "Yes",
         "3.0",
         "1.0",
         "No",
         "1"
        ],
        [
         "1",
         "8",
         "Female",
         "24.0",
         "Bangalore",
         "Student",
         "2.0",
         "0.0",
         "5.9",
         "5.0",
         "0.0",
         "'5-6 hours'",
         "Moderate",
         "BSc",
         "No",
         "3.0",
         "2.0",
         "Yes",
         "0"
        ],
        [
         "2",
         "26",
         "Male",
         "31.0",
         "Srinagar",
         "Student",
         "3.0",
         "0.0",
         "7.03",
         "5.0",
         "0.0",
         "'Less than 5 hours'",
         "Healthy",
         "BA",
         "No",
         "9.0",
         "1.0",
         "Yes",
         "0"
        ],
        [
         "3",
         "30",
         "Female",
         "28.0",
         "Varanasi",
         "Student",
         "3.0",
         "0.0",
         "5.59",
         "2.0",
         "0.0",
         "'7-8 hours'",
         "Moderate",
         "BCA",
         "Yes",
         "4.0",
         "5.0",
         "Yes",
         "1"
        ],
        [
         "4",
         "32",
         "Female",
         "25.0",
         "Jaipur",
         "Student",
         "4.0",
         "0.0",
         "8.13",
         "3.0",
         "0.0",
         "'5-6 hours'",
         "Moderate",
         "M.Tech",
         "Yes",
         "1.0",
         "1.0",
         "No",
         "0"
        ],
        [
         "5",
         "33",
         "Male",
         "29.0",
         "Pune",
         "Student",
         "2.0",
         "0.0",
         "5.7",
         "3.0",
         "0.0",
         "'Less than 5 hours'",
         "Healthy",
         "PhD",
         "No",
         "4.0",
         "1.0",
         "No",
         "0"
        ],
        [
         "6",
         "52",
         "Male",
         "30.0",
         "Thane",
         "Student",
         "3.0",
         "0.0",
         "9.54",
         "4.0",
         "0.0",
         "'7-8 hours'",
         "Healthy",
         "BSc",
         "No",
         "1.0",
         "2.0",
         "No",
         "0"
        ],
        [
         "7",
         "56",
         "Female",
         "30.0",
         "Chennai",
         "Student",
         "2.0",
         "0.0",
         "8.04",
         "4.0",
         "0.0",
         "'Less than 5 hours'",
         "Unhealthy",
         "'Class 12'",
         "No",
         "0.0",
         "1.0",
         "Yes",
         "0"
        ],
        [
         "8",
         "59",
         "Male",
         "28.0",
         "Nagpur",
         "Student",
         "3.0",
         "0.0",
         "9.79",
         "1.0",
         "0.0",
         "'7-8 hours'",
         "Moderate",
         "B.Ed",
         "Yes",
         "12.0",
         "3.0",
         "No",
         "1"
        ],
        [
         "9",
         "62",
         "Male",
         "31.0",
         "Nashik",
         "Student",
         "2.0",
         "0.0",
         "8.38",
         "3.0",
         "0.0",
         "'Less than 5 hours'",
         "Moderate",
         "LLB",
         "Yes",
         "2.0",
         "5.0",
         "No",
         "1"
        ],
        [
         "10",
         "83",
         "Male",
         "24.0",
         "Nagpur",
         "Student",
         "3.0",
         "0.0",
         "6.1",
         "3.0",
         "0.0",
         "'5-6 hours'",
         "Moderate",
         "'Class 12'",
         "Yes",
         "11.0",
         "1.0",
         "Yes",
         "1"
        ],
        [
         "11",
         "91",
         "Male",
         "33.0",
         "Vadodara",
         "Student",
         "3.0",
         "0.0",
         "7.03",
         "4.0",
         "0.0",
         "'Less than 5 hours'",
         "Healthy",
         "BE",
         "Yes",
         "10.0",
         "2.0",
         "Yes",
         "0"
        ],
        [
         "12",
         "94",
         "Male",
         "27.0",
         "Kalyan",
         "Student",
         "5.0",
         "0.0",
         "7.04",
         "1.0",
         "0.0",
         "'Less than 5 hours'",
         "Moderate",
         "M.Tech",
         "No",
         "10.0",
         "1.0",
         "Yes",
         "1"
        ],
        [
         "13",
         "100",
         "Female",
         "19.0",
         "Rajkot",
         "Student",
         "2.0",
         "0.0",
         "8.52",
         "4.0",
         "0.0",
         "'Less than 5 hours'",
         "Unhealthy",
         "'Class 12'",
         "No",
         "6.0",
         "2.0",
         "Yes",
         "0"
        ],
        [
         "14",
         "103",
         "Female",
         "19.0",
         "Kalyan",
         "Student",
         "5.0",
         "0.0",
         "5.64",
         "5.0",
         "0.0",
         "'Less than 5 hours'",
         "Moderate",
         "'Class 12'",
         "Yes",
         "4.0",
         "5.0",
         "Yes",
         "1"
        ],
        [
         "15",
         "106",
         "Male",
         "29.0",
         "Srinagar",
         "Student",
         "3.0",
         "0.0",
         "8.58",
         "3.0",
         "0.0",
         "'More than 8 hours'",
         "Moderate",
         "M.Tech",
         "Yes",
         "10.0",
         "2.0",
         "Yes",
         "1"
        ],
        [
         "16",
         "120",
         "Male",
         "25.0",
         "Nashik",
         "Student",
         "5.0",
         "0.0",
         "6.51",
         "2.0",
         "0.0",
         "'Less than 5 hours'",
         "Unhealthy",
         "M.Ed",
         "Yes",
         "2.0",
         "5.0",
         "Yes",
         "1"
        ],
        [
         "17",
         "132",
         "Female",
         "20.0",
         "Ahmedabad",
         "Student",
         "5.0",
         "0.0",
         "7.25",
         "3.0",
         "0.0",
         "'5-6 hours'",
         "Healthy",
         "'Class 12'",
         "Yes",
         "10.0",
         "3.0",
         "No",
         "1"
        ],
        [
         "18",
         "139",
         "Male",
         "19.0",
         "Chennai",
         "Student",
         "2.0",
         "0.0",
         "7.83",
         "2.0",
         "0.0",
         "'7-8 hours'",
         "Unhealthy",
         "'Class 12'",
         "No",
         "6.0",
         "3.0",
         "No",
         "0"
        ],
        [
         "19",
         "145",
         "Male",
         "25.0",
         "Kalyan",
         "Student",
         "3.0",
         "0.0",
         "9.93",
         "3.0",
         "0.0",
         "'5-6 hours'",
         "Moderate",
         "B.Ed",
         "No",
         "8.0",
         "3.0",
         "Yes",
         "1"
        ],
        [
         "20",
         "161",
         "Male",
         "29.0",
         "Kolkata",
         "Student",
         "3.0",
         "0.0",
         "8.74",
         "4.0",
         "0.0",
         "'5-6 hours'",
         "Moderate",
         "B.Ed",
         "Yes",
         "1.0",
         "1.0",
         "No",
         "0"
        ],
        [
         "21",
         "162",
         "Male",
         "29.0",
         "Kolkata",
         "Student",
         "3.0",
         "0.0",
         "6.73",
         "3.0",
         "0.0",
         "'7-8 hours'",
         "Moderate",
         "M.Tech",
         "No",
         "0.0",
         "1.0",
         "No",
         "0"
        ],
        [
         "22",
         "166",
         "Female",
         "25.0",
         "Ahmedabad",
         "Student",
         "3.0",
         "0.0",
         "5.57",
         "3.0",
         "0.0",
         "'More than 8 hours'",
         "Unhealthy",
         "MSc",
         "Yes",
         "10.0",
         "5.0",
         "No",
         "1"
        ],
        [
         "23",
         "172",
         "Male",
         "23.0",
         "Thane",
         "Student",
         "1.0",
         "0.0",
         "8.59",
         "4.0",
         "0.0",
         "'7-8 hours'",
         "Healthy",
         "BHM",
         "No",
         "11.0",
         "3.0",
         "No",
         "0"
        ],
        [
         "24",
         "173",
         "Male",
         "18.0",
         "Bangalore",
         "Student",
         "4.0",
         "0.0",
         "7.1",
         "3.0",
         "0.0",
         "'More than 8 hours'",
         "Unhealthy",
         "'Class 12'",
         "Yes",
         "11.0",
         "5.0",
         "Yes",
         "1"
        ],
        [
         "25",
         "176",
         "Female",
         "20.0",
         "Mumbai",
         "Student",
         "5.0",
         "0.0",
         "8.58",
         "5.0",
         "0.0",
         "'7-8 hours'",
         "Moderate",
         "'Class 12'",
         "No",
         "2.0",
         "2.0",
         "Yes",
         "1"
        ],
        [
         "26",
         "186",
         "Male",
         "31.0",
         "Ahmedabad",
         "Student",
         "2.0",
         "0.0",
         "6.08",
         "5.0",
         "0.0",
         "'7-8 hours'",
         "Moderate",
         "LLB",
         "Yes",
         "3.0",
         "3.0",
         "Yes",
         "1"
        ],
        [
         "27",
         "193",
         "Male",
         "25.0",
         "Lucknow",
         "Student",
         "3.0",
         "0.0",
         "7.25",
         "3.0",
         "0.0",
         "'More than 8 hours'",
         "Unhealthy",
         "M.Ed",
         "Yes",
         "10.0",
         "5.0",
         "No",
         "1"
        ],
        [
         "28",
         "208",
         "Male",
         "33.0",
         "Indore",
         "Student",
         "5.0",
         "0.0",
         "5.74",
         "2.0",
         "0.0",
         "'Less than 5 hours'",
         "Moderate",
         "M.Pharm",
         "No",
         "8.0",
         "3.0",
         "Yes",
         "0"
        ],
        [
         "29",
         "214",
         "Male",
         "28.0",
         "Kalyan",
         "Student",
         "3.0",
         "0.0",
         "9.86",
         "3.0",
         "0.0",
         "'7-8 hours'",
         "Unhealthy",
         "M.Pharm",
         "Yes",
         "11.0",
         "2.0",
         "No",
         "1"
        ],
        [
         "30",
         "222",
         "Male",
         "18.0",
         "Surat",
         "Student",
         "4.0",
         "0.0",
         "6.7",
         "5.0",
         "0.0",
         "'Less than 5 hours'",
         "Moderate",
         "'Class 12'",
         "Yes",
         "5.0",
         "4.0",
         "Yes",
         "1"
        ],
        [
         "31",
         "232",
         "Male",
         "18.0",
         "Visakhapatnam",
         "Student",
         "2.0",
         "0.0",
         "6.21",
         "3.0",
         "0.0",
         "'5-6 hours'",
         "Unhealthy",
         "'Class 12'",
         "Yes",
         "4.0",
         "2.0",
         "No",
         "1"
        ],
        [
         "32",
         "239",
         "Male",
         "21.0",
         "Jaipur",
         "Student",
         "1.0",
         "0.0",
         "7.25",
         "1.0",
         "0.0",
         "'Less than 5 hours'",
         "Healthy",
         "MCA",
         "Yes",
         "7.0",
         "2.0",
         "No",
         "0"
        ],
        [
         "33",
         "240",
         "Female",
         "31.0",
         "Kalyan",
         "Student",
         "1.0",
         "0.0",
         "5.87",
         "3.0",
         "0.0",
         "'7-8 hours'",
         "Healthy",
         "PhD",
         "No",
         "8.0",
         "4.0",
         "Yes",
         "0"
        ],
        [
         "34",
         "242",
         "Male",
         "21.0",
         "Surat",
         "Student",
         "1.0",
         "0.0",
         "8.04",
         "3.0",
         "0.0",
         "'More than 8 hours'",
         "Healthy",
         "MA",
         "No",
         "0.0",
         "3.0",
         "Yes",
         "0"
        ],
        [
         "35",
         "253",
         "Female",
         "25.0",
         "Ludhiana",
         "Student",
         "1.0",
         "0.0",
         "6.37",
         "3.0",
         "0.0",
         "'7-8 hours'",
         "Moderate",
         "B.Pharm",
         "Yes",
         "2.0",
         "2.0",
         "No",
         "0"
        ],
        [
         "36",
         "255",
         "Female",
         "21.0",
         "Bhopal",
         "Student",
         "5.0",
         "0.0",
         "9.72",
         "2.0",
         "0.0",
         "'5-6 hours'",
         "Moderate",
         "B.Com",
         "Yes",
         "0.0",
         "4.0",
         "Yes",
         "1"
        ],
        [
         "37",
         "263",
         "Male",
         "28.0",
         "Srinagar",
         "Student",
         "5.0",
         "0.0",
         "5.88",
         "3.0",
         "0.0",
         "'7-8 hours'",
         "Unhealthy",
         "BCA",
         "Yes",
         "9.0",
         "1.0",
         "Yes",
         "0"
        ],
        [
         "38",
         "270",
         "Male",
         "28.0",
         "Thane",
         "Student",
         "1.0",
         "0.0",
         "9.56",
         "2.0",
         "0.0",
         "'7-8 hours'",
         "Unhealthy",
         "MD",
         "No",
         "6.0",
         "3.0",
         "No",
         "0"
        ],
        [
         "39",
         "273",
         "Male",
         "25.0",
         "Meerut",
         "Student",
         "3.0",
         "0.0",
         "6.51",
         "4.0",
         "0.0",
         "'7-8 hours'",
         "Unhealthy",
         "B.Pharm",
         "Yes",
         "3.0",
         "4.0",
         "No",
         "1"
        ],
        [
         "40",
         "274",
         "Female",
         "20.0",
         "Thane",
         "Student",
         "3.0",
         "0.0",
         "6.99",
         "2.0",
         "0.0",
         "'7-8 hours'",
         "Moderate",
         "'Class 12'",
         "Yes",
         "11.0",
         "5.0",
         "Yes",
         "1"
        ],
        [
         "41",
         "277",
         "Male",
         "23.0",
         "Agra",
         "Student",
         "2.0",
         "0.0",
         "6.1",
         "4.0",
         "0.0",
         "'5-6 hours'",
         "Unhealthy",
         "MSc",
         "Yes",
         "10.0",
         "1.0",
         "Yes",
         "0"
        ],
        [
         "42",
         "280",
         "Male",
         "19.0",
         "Agra",
         "Student",
         "1.0",
         "0.0",
         "5.24",
         "3.0",
         "0.0",
         "'5-6 hours'",
         "Healthy",
         "'Class 12'",
         "Yes",
         "2.0",
         "1.0",
         "No",
         "0"
        ],
        [
         "43",
         "285",
         "Female",
         "33.0",
         "Ghaziabad",
         "Student",
         "4.0",
         "0.0",
         "9.21",
         "1.0",
         "0.0",
         "'Less than 5 hours'",
         "Unhealthy",
         "MBA",
         "Yes",
         "10.0",
         "5.0",
         "Yes",
         "1"
        ],
        [
         "44",
         "294",
         "Female",
         "23.0",
         "Chennai",
         "Student",
         "1.0",
         "0.0",
         "7.85",
         "4.0",
         "0.0",
         "'More than 8 hours'",
         "Unhealthy",
         "BE",
         "No",
         "12.0",
         "5.0",
         "No",
         "0"
        ],
        [
         "45",
         "301",
         "Male",
         "22.0",
         "Lucknow",
         "Student",
         "1.0",
         "0.0",
         "9.93",
         "1.0",
         "0.0",
         "'7-8 hours'",
         "Unhealthy",
         "B.Ed",
         "No",
         "10.0",
         "1.0",
         "No",
         "0"
        ],
        [
         "46",
         "303",
         "Female",
         "19.0",
         "Meerut",
         "Student",
         "2.0",
         "0.0",
         "6.95",
         "2.0",
         "0.0",
         "'Less than 5 hours'",
         "Healthy",
         "'Class 12'",
         "Yes",
         "2.0",
         "3.0",
         "Yes",
         "0"
        ],
        [
         "47",
         "305",
         "Female",
         "30.0",
         "Hyderabad",
         "Student",
         "1.0",
         "0.0",
         "5.86",
         "3.0",
         "0.0",
         "'Less than 5 hours'",
         "Healthy",
         "BSc",
         "No",
         "1.0",
         "4.0",
         "Yes",
         "0"
        ],
        [
         "48",
         "310",
         "Male",
         "21.0",
         "Kalyan",
         "Student",
         "3.0",
         "0.0",
         "7.04",
         "3.0",
         "0.0",
         "'Less than 5 hours'",
         "Unhealthy",
         "MSc",
         "No",
         "1.0",
         "5.0",
         "Yes",
         "0"
        ],
        [
         "49",
         "312",
         "Female",
         "19.0",
         "Rajkot",
         "Student",
         "5.0",
         "0.0",
         "6.99",
         "5.0",
         "0.0",
         "'More than 8 hours'",
         "Healthy",
         "'Class 12'",
         "Yes",
         "0.0",
         "4.0",
         "Yes",
         "1"
        ]
       ],
       "shape": {
        "columns": 18,
        "rows": 27901
       }
      },
      "text/html": [
       "<div>\n",
       "<style scoped>\n",
       "    .dataframe tbody tr th:only-of-type {\n",
       "        vertical-align: middle;\n",
       "    }\n",
       "\n",
       "    .dataframe tbody tr th {\n",
       "        vertical-align: top;\n",
       "    }\n",
       "\n",
       "    .dataframe thead th {\n",
       "        text-align: right;\n",
       "    }\n",
       "</style>\n",
       "<table border=\"1\" class=\"dataframe\">\n",
       "  <thead>\n",
       "    <tr style=\"text-align: right;\">\n",
       "      <th></th>\n",
       "      <th>id</th>\n",
       "      <th>Gender</th>\n",
       "      <th>Age</th>\n",
       "      <th>City</th>\n",
       "      <th>Profession</th>\n",
       "      <th>Academic Pressure</th>\n",
       "      <th>Work Pressure</th>\n",
       "      <th>CGPA</th>\n",
       "      <th>Study Satisfaction</th>\n",
       "      <th>Job Satisfaction</th>\n",
       "      <th>Sleep Duration</th>\n",
       "      <th>Dietary Habits</th>\n",
       "      <th>Degree</th>\n",
       "      <th>Have you ever had suicidal thoughts ?</th>\n",
       "      <th>Work/Study Hours</th>\n",
       "      <th>Financial Stress</th>\n",
       "      <th>Family History of Mental Illness</th>\n",
       "      <th>Depression</th>\n",
       "    </tr>\n",
       "  </thead>\n",
       "  <tbody>\n",
       "    <tr>\n",
       "      <th>0</th>\n",
       "      <td>2</td>\n",
       "      <td>Male</td>\n",
       "      <td>33.0</td>\n",
       "      <td>Visakhapatnam</td>\n",
       "      <td>Student</td>\n",
       "      <td>5.0</td>\n",
       "      <td>0.0</td>\n",
       "      <td>8.97</td>\n",
       "      <td>2.0</td>\n",
       "      <td>0.0</td>\n",
       "      <td>'5-6 hours'</td>\n",
       "      <td>Healthy</td>\n",
       "      <td>B.Pharm</td>\n",
       "      <td>Yes</td>\n",
       "      <td>3.0</td>\n",
       "      <td>1.0</td>\n",
       "      <td>No</td>\n",
       "      <td>1</td>\n",
       "    </tr>\n",
       "    <tr>\n",
       "      <th>1</th>\n",
       "      <td>8</td>\n",
       "      <td>Female</td>\n",
       "      <td>24.0</td>\n",
       "      <td>Bangalore</td>\n",
       "      <td>Student</td>\n",
       "      <td>2.0</td>\n",
       "      <td>0.0</td>\n",
       "      <td>5.90</td>\n",
       "      <td>5.0</td>\n",
       "      <td>0.0</td>\n",
       "      <td>'5-6 hours'</td>\n",
       "      <td>Moderate</td>\n",
       "      <td>BSc</td>\n",
       "      <td>No</td>\n",
       "      <td>3.0</td>\n",
       "      <td>2.0</td>\n",
       "      <td>Yes</td>\n",
       "      <td>0</td>\n",
       "    </tr>\n",
       "    <tr>\n",
       "      <th>2</th>\n",
       "      <td>26</td>\n",
       "      <td>Male</td>\n",
       "      <td>31.0</td>\n",
       "      <td>Srinagar</td>\n",
       "      <td>Student</td>\n",
       "      <td>3.0</td>\n",
       "      <td>0.0</td>\n",
       "      <td>7.03</td>\n",
       "      <td>5.0</td>\n",
       "      <td>0.0</td>\n",
       "      <td>'Less than 5 hours'</td>\n",
       "      <td>Healthy</td>\n",
       "      <td>BA</td>\n",
       "      <td>No</td>\n",
       "      <td>9.0</td>\n",
       "      <td>1.0</td>\n",
       "      <td>Yes</td>\n",
       "      <td>0</td>\n",
       "    </tr>\n",
       "    <tr>\n",
       "      <th>3</th>\n",
       "      <td>30</td>\n",
       "      <td>Female</td>\n",
       "      <td>28.0</td>\n",
       "      <td>Varanasi</td>\n",
       "      <td>Student</td>\n",
       "      <td>3.0</td>\n",
       "      <td>0.0</td>\n",
       "      <td>5.59</td>\n",
       "      <td>2.0</td>\n",
       "      <td>0.0</td>\n",
       "      <td>'7-8 hours'</td>\n",
       "      <td>Moderate</td>\n",
       "      <td>BCA</td>\n",
       "      <td>Yes</td>\n",
       "      <td>4.0</td>\n",
       "      <td>5.0</td>\n",
       "      <td>Yes</td>\n",
       "      <td>1</td>\n",
       "    </tr>\n",
       "    <tr>\n",
       "      <th>4</th>\n",
       "      <td>32</td>\n",
       "      <td>Female</td>\n",
       "      <td>25.0</td>\n",
       "      <td>Jaipur</td>\n",
       "      <td>Student</td>\n",
       "      <td>4.0</td>\n",
       "      <td>0.0</td>\n",
       "      <td>8.13</td>\n",
       "      <td>3.0</td>\n",
       "      <td>0.0</td>\n",
       "      <td>'5-6 hours'</td>\n",
       "      <td>Moderate</td>\n",
       "      <td>M.Tech</td>\n",
       "      <td>Yes</td>\n",
       "      <td>1.0</td>\n",
       "      <td>1.0</td>\n",
       "      <td>No</td>\n",
       "      <td>0</td>\n",
       "    </tr>\n",
       "    <tr>\n",
       "      <th>...</th>\n",
       "      <td>...</td>\n",
       "      <td>...</td>\n",
       "      <td>...</td>\n",
       "      <td>...</td>\n",
       "      <td>...</td>\n",
       "      <td>...</td>\n",
       "      <td>...</td>\n",
       "      <td>...</td>\n",
       "      <td>...</td>\n",
       "      <td>...</td>\n",
       "      <td>...</td>\n",
       "      <td>...</td>\n",
       "      <td>...</td>\n",
       "      <td>...</td>\n",
       "      <td>...</td>\n",
       "      <td>...</td>\n",
       "      <td>...</td>\n",
       "      <td>...</td>\n",
       "    </tr>\n",
       "    <tr>\n",
       "      <th>27896</th>\n",
       "      <td>140685</td>\n",
       "      <td>Female</td>\n",
       "      <td>27.0</td>\n",
       "      <td>Surat</td>\n",
       "      <td>Student</td>\n",
       "      <td>5.0</td>\n",
       "      <td>0.0</td>\n",
       "      <td>5.75</td>\n",
       "      <td>5.0</td>\n",
       "      <td>0.0</td>\n",
       "      <td>'5-6 hours'</td>\n",
       "      <td>Unhealthy</td>\n",
       "      <td>'Class 12'</td>\n",
       "      <td>Yes</td>\n",
       "      <td>7.0</td>\n",
       "      <td>1.0</td>\n",
       "      <td>Yes</td>\n",
       "      <td>0</td>\n",
       "    </tr>\n",
       "    <tr>\n",
       "      <th>27897</th>\n",
       "      <td>140686</td>\n",
       "      <td>Male</td>\n",
       "      <td>27.0</td>\n",
       "      <td>Ludhiana</td>\n",
       "      <td>Student</td>\n",
       "      <td>2.0</td>\n",
       "      <td>0.0</td>\n",
       "      <td>9.40</td>\n",
       "      <td>3.0</td>\n",
       "      <td>0.0</td>\n",
       "      <td>'Less than 5 hours'</td>\n",
       "      <td>Healthy</td>\n",
       "      <td>MSc</td>\n",
       "      <td>No</td>\n",
       "      <td>0.0</td>\n",
       "      <td>3.0</td>\n",
       "      <td>Yes</td>\n",
       "      <td>0</td>\n",
       "    </tr>\n",
       "    <tr>\n",
       "      <th>27898</th>\n",
       "      <td>140689</td>\n",
       "      <td>Male</td>\n",
       "      <td>31.0</td>\n",
       "      <td>Faridabad</td>\n",
       "      <td>Student</td>\n",
       "      <td>3.0</td>\n",
       "      <td>0.0</td>\n",
       "      <td>6.61</td>\n",
       "      <td>4.0</td>\n",
       "      <td>0.0</td>\n",
       "      <td>'5-6 hours'</td>\n",
       "      <td>Unhealthy</td>\n",
       "      <td>MD</td>\n",
       "      <td>No</td>\n",
       "      <td>12.0</td>\n",
       "      <td>2.0</td>\n",
       "      <td>No</td>\n",
       "      <td>0</td>\n",
       "    </tr>\n",
       "    <tr>\n",
       "      <th>27899</th>\n",
       "      <td>140690</td>\n",
       "      <td>Female</td>\n",
       "      <td>18.0</td>\n",
       "      <td>Ludhiana</td>\n",
       "      <td>Student</td>\n",
       "      <td>5.0</td>\n",
       "      <td>0.0</td>\n",
       "      <td>6.88</td>\n",
       "      <td>2.0</td>\n",
       "      <td>0.0</td>\n",
       "      <td>'Less than 5 hours'</td>\n",
       "      <td>Healthy</td>\n",
       "      <td>'Class 12'</td>\n",
       "      <td>Yes</td>\n",
       "      <td>10.0</td>\n",
       "      <td>5.0</td>\n",
       "      <td>No</td>\n",
       "      <td>1</td>\n",
       "    </tr>\n",
       "    <tr>\n",
       "      <th>27900</th>\n",
       "      <td>140699</td>\n",
       "      <td>Male</td>\n",
       "      <td>27.0</td>\n",
       "      <td>Patna</td>\n",
       "      <td>Student</td>\n",
       "      <td>4.0</td>\n",
       "      <td>0.0</td>\n",
       "      <td>9.24</td>\n",
       "      <td>1.0</td>\n",
       "      <td>0.0</td>\n",
       "      <td>'Less than 5 hours'</td>\n",
       "      <td>Healthy</td>\n",
       "      <td>BCA</td>\n",
       "      <td>Yes</td>\n",
       "      <td>2.0</td>\n",
       "      <td>3.0</td>\n",
       "      <td>Yes</td>\n",
       "      <td>1</td>\n",
       "    </tr>\n",
       "  </tbody>\n",
       "</table>\n",
       "<p>27901 rows × 18 columns</p>\n",
       "</div>"
      ],
      "text/plain": [
       "           id  Gender   Age           City Profession  Academic Pressure  \\\n",
       "0           2    Male  33.0  Visakhapatnam    Student                5.0   \n",
       "1           8  Female  24.0      Bangalore    Student                2.0   \n",
       "2          26    Male  31.0       Srinagar    Student                3.0   \n",
       "3          30  Female  28.0       Varanasi    Student                3.0   \n",
       "4          32  Female  25.0         Jaipur    Student                4.0   \n",
       "...       ...     ...   ...            ...        ...                ...   \n",
       "27896  140685  Female  27.0          Surat    Student                5.0   \n",
       "27897  140686    Male  27.0       Ludhiana    Student                2.0   \n",
       "27898  140689    Male  31.0      Faridabad    Student                3.0   \n",
       "27899  140690  Female  18.0       Ludhiana    Student                5.0   \n",
       "27900  140699    Male  27.0          Patna    Student                4.0   \n",
       "\n",
       "       Work Pressure  CGPA  Study Satisfaction  Job Satisfaction  \\\n",
       "0                0.0  8.97                 2.0               0.0   \n",
       "1                0.0  5.90                 5.0               0.0   \n",
       "2                0.0  7.03                 5.0               0.0   \n",
       "3                0.0  5.59                 2.0               0.0   \n",
       "4                0.0  8.13                 3.0               0.0   \n",
       "...              ...   ...                 ...               ...   \n",
       "27896            0.0  5.75                 5.0               0.0   \n",
       "27897            0.0  9.40                 3.0               0.0   \n",
       "27898            0.0  6.61                 4.0               0.0   \n",
       "27899            0.0  6.88                 2.0               0.0   \n",
       "27900            0.0  9.24                 1.0               0.0   \n",
       "\n",
       "            Sleep Duration Dietary Habits      Degree  \\\n",
       "0              '5-6 hours'        Healthy     B.Pharm   \n",
       "1              '5-6 hours'       Moderate         BSc   \n",
       "2      'Less than 5 hours'        Healthy          BA   \n",
       "3              '7-8 hours'       Moderate         BCA   \n",
       "4              '5-6 hours'       Moderate      M.Tech   \n",
       "...                    ...            ...         ...   \n",
       "27896          '5-6 hours'      Unhealthy  'Class 12'   \n",
       "27897  'Less than 5 hours'        Healthy         MSc   \n",
       "27898          '5-6 hours'      Unhealthy          MD   \n",
       "27899  'Less than 5 hours'        Healthy  'Class 12'   \n",
       "27900  'Less than 5 hours'        Healthy         BCA   \n",
       "\n",
       "      Have you ever had suicidal thoughts ?  Work/Study Hours  \\\n",
       "0                                       Yes               3.0   \n",
       "1                                        No               3.0   \n",
       "2                                        No               9.0   \n",
       "3                                       Yes               4.0   \n",
       "4                                       Yes               1.0   \n",
       "...                                     ...               ...   \n",
       "27896                                   Yes               7.0   \n",
       "27897                                    No               0.0   \n",
       "27898                                    No              12.0   \n",
       "27899                                   Yes              10.0   \n",
       "27900                                   Yes               2.0   \n",
       "\n",
       "      Financial Stress Family History of Mental Illness  Depression  \n",
       "0                  1.0                               No           1  \n",
       "1                  2.0                              Yes           0  \n",
       "2                  1.0                              Yes           0  \n",
       "3                  5.0                              Yes           1  \n",
       "4                  1.0                               No           0  \n",
       "...                ...                              ...         ...  \n",
       "27896              1.0                              Yes           0  \n",
       "27897              3.0                              Yes           0  \n",
       "27898              2.0                               No           0  \n",
       "27899              5.0                               No           1  \n",
       "27900              3.0                              Yes           1  \n",
       "\n",
       "[27901 rows x 18 columns]"
      ]
     },
     "execution_count": 5,
     "metadata": {},
     "output_type": "execute_result"
    }
   ],
   "source": [
    "datasets_dict['student-depression-dataset']"
   ]
  },
  {
   "cell_type": "code",
   "execution_count": 6,
   "metadata": {},
   "outputs": [],
   "source": [
    "data = datasets_dict['student-depression-dataset'].copy()"
   ]
  },
  {
   "cell_type": "code",
   "execution_count": 7,
   "metadata": {},
   "outputs": [
    {
     "data": {
      "text/plain": [
       "Index(['id', 'Gender', 'Age', 'City', 'Profession', 'Academic Pressure',\n",
       "       'Work Pressure', 'CGPA', 'Study Satisfaction', 'Job Satisfaction',\n",
       "       'Sleep Duration', 'Dietary Habits', 'Degree',\n",
       "       'Have you ever had suicidal thoughts ?', 'Work/Study Hours',\n",
       "       'Financial Stress', 'Family History of Mental Illness', 'Depression'],\n",
       "      dtype='object')"
      ]
     },
     "execution_count": 7,
     "metadata": {},
     "output_type": "execute_result"
    }
   ],
   "source": [
    "data.columns"
   ]
  },
  {
   "cell_type": "code",
   "execution_count": 8,
   "metadata": {},
   "outputs": [
    {
     "data": {
      "application/vnd.microsoft.datawrangler.viewer.v0+json": {
       "columns": [
        {
         "name": "index",
         "rawType": "int64",
         "type": "integer"
        },
        {
         "name": "id",
         "rawType": "int64",
         "type": "integer"
        },
        {
         "name": "Gender",
         "rawType": "object",
         "type": "string"
        },
        {
         "name": "Age",
         "rawType": "float64",
         "type": "float"
        },
        {
         "name": "City",
         "rawType": "object",
         "type": "string"
        },
        {
         "name": "Profession",
         "rawType": "object",
         "type": "string"
        },
        {
         "name": "Academic Pressure",
         "rawType": "float64",
         "type": "float"
        },
        {
         "name": "Work Pressure",
         "rawType": "float64",
         "type": "float"
        },
        {
         "name": "CGPA",
         "rawType": "float64",
         "type": "float"
        },
        {
         "name": "Study Satisfaction",
         "rawType": "float64",
         "type": "float"
        },
        {
         "name": "Job Satisfaction",
         "rawType": "float64",
         "type": "float"
        },
        {
         "name": "Sleep Duration",
         "rawType": "object",
         "type": "string"
        },
        {
         "name": "Dietary Habits",
         "rawType": "object",
         "type": "string"
        },
        {
         "name": "Degree",
         "rawType": "object",
         "type": "string"
        },
        {
         "name": "Have you ever had suicidal thoughts ?",
         "rawType": "object",
         "type": "string"
        },
        {
         "name": "Work/Study Hours",
         "rawType": "float64",
         "type": "float"
        },
        {
         "name": "Financial Stress",
         "rawType": "object",
         "type": "string"
        },
        {
         "name": "Family History of Mental Illness",
         "rawType": "object",
         "type": "string"
        },
        {
         "name": "Depression",
         "rawType": "int64",
         "type": "integer"
        }
       ],
       "conversionMethod": "pd.DataFrame",
       "ref": "29170a23-57ff-46e0-9406-3f95e7990021",
       "rows": [
        [
         "0",
         "2",
         "Male",
         "33.0",
         "Visakhapatnam",
         "Student",
         "5.0",
         "0.0",
         "8.97",
         "2.0",
         "0.0",
         "'5-6 hours'",
         "Healthy",
         "B.Pharm",
         "Yes",
         "3.0",
         "1.0",
         "No",
         "1"
        ],
        [
         "1",
         "8",
         "Female",
         "24.0",
         "Bangalore",
         "Student",
         "2.0",
         "0.0",
         "5.9",
         "5.0",
         "0.0",
         "'5-6 hours'",
         "Moderate",
         "BSc",
         "No",
         "3.0",
         "2.0",
         "Yes",
         "0"
        ],
        [
         "2",
         "26",
         "Male",
         "31.0",
         "Srinagar",
         "Student",
         "3.0",
         "0.0",
         "7.03",
         "5.0",
         "0.0",
         "'Less than 5 hours'",
         "Healthy",
         "BA",
         "No",
         "9.0",
         "1.0",
         "Yes",
         "0"
        ],
        [
         "3",
         "30",
         "Female",
         "28.0",
         "Varanasi",
         "Student",
         "3.0",
         "0.0",
         "5.59",
         "2.0",
         "0.0",
         "'7-8 hours'",
         "Moderate",
         "BCA",
         "Yes",
         "4.0",
         "5.0",
         "Yes",
         "1"
        ],
        [
         "4",
         "32",
         "Female",
         "25.0",
         "Jaipur",
         "Student",
         "4.0",
         "0.0",
         "8.13",
         "3.0",
         "0.0",
         "'5-6 hours'",
         "Moderate",
         "M.Tech",
         "Yes",
         "1.0",
         "1.0",
         "No",
         "0"
        ]
       ],
       "shape": {
        "columns": 18,
        "rows": 5
       }
      },
      "text/html": [
       "<div>\n",
       "<style scoped>\n",
       "    .dataframe tbody tr th:only-of-type {\n",
       "        vertical-align: middle;\n",
       "    }\n",
       "\n",
       "    .dataframe tbody tr th {\n",
       "        vertical-align: top;\n",
       "    }\n",
       "\n",
       "    .dataframe thead th {\n",
       "        text-align: right;\n",
       "    }\n",
       "</style>\n",
       "<table border=\"1\" class=\"dataframe\">\n",
       "  <thead>\n",
       "    <tr style=\"text-align: right;\">\n",
       "      <th></th>\n",
       "      <th>id</th>\n",
       "      <th>Gender</th>\n",
       "      <th>Age</th>\n",
       "      <th>City</th>\n",
       "      <th>Profession</th>\n",
       "      <th>Academic Pressure</th>\n",
       "      <th>Work Pressure</th>\n",
       "      <th>CGPA</th>\n",
       "      <th>Study Satisfaction</th>\n",
       "      <th>Job Satisfaction</th>\n",
       "      <th>Sleep Duration</th>\n",
       "      <th>Dietary Habits</th>\n",
       "      <th>Degree</th>\n",
       "      <th>Have you ever had suicidal thoughts ?</th>\n",
       "      <th>Work/Study Hours</th>\n",
       "      <th>Financial Stress</th>\n",
       "      <th>Family History of Mental Illness</th>\n",
       "      <th>Depression</th>\n",
       "    </tr>\n",
       "  </thead>\n",
       "  <tbody>\n",
       "    <tr>\n",
       "      <th>0</th>\n",
       "      <td>2</td>\n",
       "      <td>Male</td>\n",
       "      <td>33.0</td>\n",
       "      <td>Visakhapatnam</td>\n",
       "      <td>Student</td>\n",
       "      <td>5.0</td>\n",
       "      <td>0.0</td>\n",
       "      <td>8.97</td>\n",
       "      <td>2.0</td>\n",
       "      <td>0.0</td>\n",
       "      <td>'5-6 hours'</td>\n",
       "      <td>Healthy</td>\n",
       "      <td>B.Pharm</td>\n",
       "      <td>Yes</td>\n",
       "      <td>3.0</td>\n",
       "      <td>1.0</td>\n",
       "      <td>No</td>\n",
       "      <td>1</td>\n",
       "    </tr>\n",
       "    <tr>\n",
       "      <th>1</th>\n",
       "      <td>8</td>\n",
       "      <td>Female</td>\n",
       "      <td>24.0</td>\n",
       "      <td>Bangalore</td>\n",
       "      <td>Student</td>\n",
       "      <td>2.0</td>\n",
       "      <td>0.0</td>\n",
       "      <td>5.90</td>\n",
       "      <td>5.0</td>\n",
       "      <td>0.0</td>\n",
       "      <td>'5-6 hours'</td>\n",
       "      <td>Moderate</td>\n",
       "      <td>BSc</td>\n",
       "      <td>No</td>\n",
       "      <td>3.0</td>\n",
       "      <td>2.0</td>\n",
       "      <td>Yes</td>\n",
       "      <td>0</td>\n",
       "    </tr>\n",
       "    <tr>\n",
       "      <th>2</th>\n",
       "      <td>26</td>\n",
       "      <td>Male</td>\n",
       "      <td>31.0</td>\n",
       "      <td>Srinagar</td>\n",
       "      <td>Student</td>\n",
       "      <td>3.0</td>\n",
       "      <td>0.0</td>\n",
       "      <td>7.03</td>\n",
       "      <td>5.0</td>\n",
       "      <td>0.0</td>\n",
       "      <td>'Less than 5 hours'</td>\n",
       "      <td>Healthy</td>\n",
       "      <td>BA</td>\n",
       "      <td>No</td>\n",
       "      <td>9.0</td>\n",
       "      <td>1.0</td>\n",
       "      <td>Yes</td>\n",
       "      <td>0</td>\n",
       "    </tr>\n",
       "    <tr>\n",
       "      <th>3</th>\n",
       "      <td>30</td>\n",
       "      <td>Female</td>\n",
       "      <td>28.0</td>\n",
       "      <td>Varanasi</td>\n",
       "      <td>Student</td>\n",
       "      <td>3.0</td>\n",
       "      <td>0.0</td>\n",
       "      <td>5.59</td>\n",
       "      <td>2.0</td>\n",
       "      <td>0.0</td>\n",
       "      <td>'7-8 hours'</td>\n",
       "      <td>Moderate</td>\n",
       "      <td>BCA</td>\n",
       "      <td>Yes</td>\n",
       "      <td>4.0</td>\n",
       "      <td>5.0</td>\n",
       "      <td>Yes</td>\n",
       "      <td>1</td>\n",
       "    </tr>\n",
       "    <tr>\n",
       "      <th>4</th>\n",
       "      <td>32</td>\n",
       "      <td>Female</td>\n",
       "      <td>25.0</td>\n",
       "      <td>Jaipur</td>\n",
       "      <td>Student</td>\n",
       "      <td>4.0</td>\n",
       "      <td>0.0</td>\n",
       "      <td>8.13</td>\n",
       "      <td>3.0</td>\n",
       "      <td>0.0</td>\n",
       "      <td>'5-6 hours'</td>\n",
       "      <td>Moderate</td>\n",
       "      <td>M.Tech</td>\n",
       "      <td>Yes</td>\n",
       "      <td>1.0</td>\n",
       "      <td>1.0</td>\n",
       "      <td>No</td>\n",
       "      <td>0</td>\n",
       "    </tr>\n",
       "  </tbody>\n",
       "</table>\n",
       "</div>"
      ],
      "text/plain": [
       "   id  Gender   Age           City Profession  Academic Pressure  \\\n",
       "0   2    Male  33.0  Visakhapatnam    Student                5.0   \n",
       "1   8  Female  24.0      Bangalore    Student                2.0   \n",
       "2  26    Male  31.0       Srinagar    Student                3.0   \n",
       "3  30  Female  28.0       Varanasi    Student                3.0   \n",
       "4  32  Female  25.0         Jaipur    Student                4.0   \n",
       "\n",
       "   Work Pressure  CGPA  Study Satisfaction  Job Satisfaction  \\\n",
       "0            0.0  8.97                 2.0               0.0   \n",
       "1            0.0  5.90                 5.0               0.0   \n",
       "2            0.0  7.03                 5.0               0.0   \n",
       "3            0.0  5.59                 2.0               0.0   \n",
       "4            0.0  8.13                 3.0               0.0   \n",
       "\n",
       "        Sleep Duration Dietary Habits   Degree  \\\n",
       "0          '5-6 hours'        Healthy  B.Pharm   \n",
       "1          '5-6 hours'       Moderate      BSc   \n",
       "2  'Less than 5 hours'        Healthy       BA   \n",
       "3          '7-8 hours'       Moderate      BCA   \n",
       "4          '5-6 hours'       Moderate   M.Tech   \n",
       "\n",
       "  Have you ever had suicidal thoughts ?  Work/Study Hours Financial Stress  \\\n",
       "0                                   Yes               3.0              1.0   \n",
       "1                                    No               3.0              2.0   \n",
       "2                                    No               9.0              1.0   \n",
       "3                                   Yes               4.0              5.0   \n",
       "4                                   Yes               1.0              1.0   \n",
       "\n",
       "  Family History of Mental Illness  Depression  \n",
       "0                               No           1  \n",
       "1                              Yes           0  \n",
       "2                              Yes           0  \n",
       "3                              Yes           1  \n",
       "4                               No           0  "
      ]
     },
     "execution_count": 8,
     "metadata": {},
     "output_type": "execute_result"
    }
   ],
   "source": [
    "data.head()"
   ]
  },
  {
   "cell_type": "markdown",
   "metadata": {},
   "source": [
    "#### First, we are going to create all the univariate plots so we can see what we are dealing with. "
   ]
  },
  {
   "cell_type": "code",
   "execution_count": 9,
   "metadata": {},
   "outputs": [
    {
     "data": {
      "text/plain": [
       "<Axes: ylabel='Gender'>"
      ]
     },
     "execution_count": 9,
     "metadata": {},
     "output_type": "execute_result"
    },
    {
     "data": {
      "image/png": "[encoded data removed]",
      "text/plain": [
       "<Figure size 640x480 with 1 Axes>"
      ]
     },
     "metadata": {},
     "output_type": "display_data"
    }
   ],
   "source": [
    "data['Gender'].value_counts().plot(kind='barh', color=['lightblue', 'pink'])"
   ]
  },
  {
   "cell_type": "code",
   "execution_count": 10,
   "metadata": {},
   "outputs": [
    {
     "data": {
      "text/plain": [
       "<Axes: ylabel='Frequency'>"
      ]
     },
     "execution_count": 10,
     "metadata": {},
     "output_type": "execute_result"
    },
    {
     "data": {
      "image/png": "[encoded data removed]",
      "text/plain": [
       "<Figure size 640x480 with 1 Axes>"
      ]
     },
     "metadata": {},
     "output_type": "display_data"
    }
   ],
   "source": [
    "data.plot(kind='hist', y='Age', logy=True, bins=25, width=1.5)"
   ]
  },
  {
   "cell_type": "code",
   "execution_count": 11,
   "metadata": {},
   "outputs": [
    {
     "data": {
      "text/plain": [
       "<Axes: ylabel='City'>"
      ]
     },
     "execution_count": 11,
     "metadata": {},
     "output_type": "execute_result"
    },
    {
     "data": {
      "image/png": "[encoded data removed]",
      "text/plain": [
       "<Figure size 640x480 with 1 Axes>"
      ]
     },
     "metadata": {},
     "output_type": "display_data"
    }
   ],
   "source": [
    "data['City'].value_counts().sort_values().tail(30).plot(kind='barh')"
   ]
  },
  {
   "cell_type": "code",
   "execution_count": 12,
   "metadata": {},
   "outputs": [
    {
     "data": {
      "text/plain": [
       "<Axes: ylabel='Profession'>"
      ]
     },
     "execution_count": 12,
     "metadata": {},
     "output_type": "execute_result"
    },
    {
     "data": {
      "image/png": "[encoded data removed]",
      "text/plain": [
       "<Figure size 640x480 with 1 Axes>"
      ]
     },
     "metadata": {},
     "output_type": "display_data"
    }
   ],
   "source": [
    "data['Profession'].value_counts().sort_values().plot(kind='barh', logx=True)"
   ]
  },
  {
   "cell_type": "code",
   "execution_count": 13,
   "metadata": {},
   "outputs": [
    {
     "data": {
      "text/plain": [
       "<Axes: ylabel='Job Satisfaction'>"
      ]
     },
     "execution_count": 13,
     "metadata": {},
     "output_type": "execute_result"
    },
    {
     "data": {
      "image/png": "[encoded data removed]",
      "text/plain": [
       "<Figure size 640x480 with 1 Axes>"
      ]
     },
     "metadata": {},
     "output_type": "display_data"
    }
   ],
   "source": [
    "data['Job Satisfaction'].value_counts().sort_values().plot(kind='barh', logx=True)"
   ]
  },
  {
   "cell_type": "code",
   "execution_count": 14,
   "metadata": {},
   "outputs": [
    {
     "data": {
      "text/plain": [
       "<Axes: ylabel='Study Satisfaction'>"
      ]
     },
     "execution_count": 14,
     "metadata": {},
     "output_type": "execute_result"
    },
    {
     "data": {
      "image/png": "[encoded data removed]",
      "text/plain": [
       "<Figure size 640x480 with 1 Axes>"
      ]
     },
     "metadata": {},
     "output_type": "display_data"
    }
   ],
   "source": [
    "data['Study Satisfaction'].value_counts().sort_values().plot(kind='barh', logx=True)"
   ]
  },
  {
   "cell_type": "code",
   "execution_count": 15,
   "metadata": {},
   "outputs": [
    {
     "data": {
      "text/plain": [
       "<Axes: ylabel='Academic Pressure'>"
      ]
     },
     "execution_count": 15,
     "metadata": {},
     "output_type": "execute_result"
    },
    {
     "data": {
      "image/png": "[encoded data removed]",
      "text/plain": [
       "<Figure size 640x480 with 1 Axes>"
      ]
     },
     "metadata": {},
     "output_type": "display_data"
    }
   ],
   "source": [
    "data['Academic Pressure'].value_counts().sort_values().plot(kind='barh', logx=True)"
   ]
  },
  {
   "cell_type": "code",
   "execution_count": 16,
   "metadata": {},
   "outputs": [
    {
     "data": {
      "text/plain": [
       "<Axes: ylabel='Work/Study Hours'>"
      ]
     },
     "execution_count": 16,
     "metadata": {},
     "output_type": "execute_result"
    },
    {
     "data": {
      "image/png": "[encoded data removed]",
      "text/plain": [
       "<Figure size 640x480 with 1 Axes>"
      ]
     },
     "metadata": {},
     "output_type": "display_data"
    }
   ],
   "source": [
    "data['Work/Study Hours'].value_counts().sort_values().plot(kind='barh', logx=True)"
   ]
  },
  {
   "cell_type": "code",
   "execution_count": 17,
   "metadata": {},
   "outputs": [
    {
     "data": {
      "text/plain": [
       "<Axes: ylabel='Dietary Habits'>"
      ]
     },
     "execution_count": 17,
     "metadata": {},
     "output_type": "execute_result"
    },
    {
     "data": {
      "image/png": "[encoded data removed]",
      "text/plain": [
       "<Figure size 640x480 with 1 Axes>"
      ]
     },
     "metadata": {},
     "output_type": "display_data"
    }
   ],
   "source": [
    "data['Dietary Habits'].value_counts().sort_values().plot(kind='barh', logx=True)"
   ]
  },
  {
   "cell_type": "code",
   "execution_count": 18,
   "metadata": {},
   "outputs": [
    {
     "data": {
      "text/plain": [
       "<Axes: ylabel='Degree'>"
      ]
     },
     "execution_count": 18,
     "metadata": {},
     "output_type": "execute_result"
    },
    {
     "data": {
      "image/png": "[encoded data removed]",
      "text/plain": [
       "<Figure size 640x480 with 1 Axes>"
      ]
     },
     "metadata": {},
     "output_type": "display_data"
    }
   ],
   "source": [
    "data['Degree'].value_counts().sort_values().plot(kind='barh', logx=True)"
   ]
  },
  {
   "cell_type": "code",
   "execution_count": 19,
   "metadata": {},
   "outputs": [
    {
     "data": {
      "text/plain": [
       "<Axes: ylabel='Sleep Duration'>"
      ]
     },
     "execution_count": 19,
     "metadata": {},
     "output_type": "execute_result"
    },
    {
     "data": {
      "image/png": "[encoded data removed]",
      "text/plain": [
       "<Figure size 640x480 with 1 Axes>"
      ]
     },
     "metadata": {},
     "output_type": "display_data"
    }
   ],
   "source": [
    "data['Sleep Duration'].value_counts().sort_values().plot(kind='barh', logx=True)"
   ]
  },
  {
   "cell_type": "code",
   "execution_count": 20,
   "metadata": {},
   "outputs": [
    {
     "data": {
      "text/plain": [
       "<Axes: ylabel='Financial Stress'>"
      ]
     },
     "execution_count": 20,
     "metadata": {},
     "output_type": "execute_result"
    },
    {
     "data": {
      "image/png": "[encoded data removed]",
      "text/plain": [
       "<Figure size 640x480 with 1 Axes>"
      ]
     },
     "metadata": {},
     "output_type": "display_data"
    }
   ],
   "source": [
    "data['Financial Stress'].value_counts().sort_values().plot(kind='barh', logx=True)"
   ]
  },
  {
   "cell_type": "code",
   "execution_count": 21,
   "metadata": {},
   "outputs": [
    {
     "data": {
      "text/plain": [
       "<Axes: ylabel='Have you ever had suicidal thoughts ?'>"
      ]
     },
     "execution_count": 21,
     "metadata": {},
     "output_type": "execute_result"
    },
    {
     "data": {
      "image/png": "[encoded data removed]",
      "text/plain": [
       "<Figure size 640x480 with 1 Axes>"
      ]
     },
     "metadata": {},
     "output_type": "display_data"
    }
   ],
   "source": [
    "data['Have you ever had suicidal thoughts ?'].value_counts().sort_values().plot(kind='barh')"
   ]
  },
  {
   "cell_type": "code",
   "execution_count": 22,
   "metadata": {},
   "outputs": [
    {
     "data": {
      "text/plain": [
       "<Axes: ylabel='Family History of Mental Illness'>"
      ]
     },
     "execution_count": 22,
     "metadata": {},
     "output_type": "execute_result"
    },
    {
     "data": {
      "image/png": "[encoded data removed]",
      "text/plain": [
       "<Figure size 640x480 with 1 Axes>"
      ]
     },
     "metadata": {},
     "output_type": "display_data"
    }
   ],
   "source": [
    "data['Family History of Mental Illness'].value_counts().sort_values().plot(kind='barh')"
   ]
  },
  {
   "cell_type": "code",
   "execution_count": 23,
   "metadata": {},
   "outputs": [
    {
     "data": {
      "text/plain": [
       "<Axes: ylabel='Depression'>"
      ]
     },
     "execution_count": 23,
     "metadata": {},
     "output_type": "execute_result"
    },
    {
     "data": {
      "image/png": "[encoded data removed]",
      "text/plain": [
       "<Figure size 640x480 with 1 Axes>"
      ]
     },
     "metadata": {},
     "output_type": "display_data"
    }
   ],
   "source": [
    "data['Depression'].value_counts().sort_values().plot(kind='barh')"
   ]
  },
  {
   "cell_type": "markdown",
   "metadata": {},
   "source": [
    "#### Now let's dig in a find the happy people. I am expecially interesting in Kolkata because I spent some months there."
   ]
  },
  {
   "cell_type": "code",
   "execution_count": 24,
   "metadata": {},
   "outputs": [],
   "source": [
    "data['Poor Mental Health'] = (data['Depression'] == 1) | (data['Have you ever had suicidal thoughts ?'] == 'Yes')"
   ]
  },
  {
   "cell_type": "code",
   "execution_count": 25,
   "metadata": {},
   "outputs": [
    {
     "data": {
      "image/png": "[encoded data removed]",
      "text/plain": [
       "<Figure size 640x480 with 1 Axes>"
      ]
     },
     "metadata": {},
     "output_type": "display_data"
    }
   ],
   "source": [
    "# Create a crosstab of Gender and Poor Mental Health\n",
    "crosstab = pd.crosstab(data['Gender'], data['Poor Mental Health'])\n",
    "\n",
    "# Plot the stacked bar chart with shades of blue\n",
    "crosstab.plot(kind='barh', stacked=True, color=['lightblue', 'mediumblue'])\n",
    "\n",
    "# Set the title and labels\n",
    "plt.title('Gender Breakdown by Poor Mental Health')\n",
    "plt.xlabel('Gender')\n",
    "plt.ylabel('Count')\n",
    "plt.legend(title='Poor Mental Health', labels=['No', 'Yes'])\n",
    "\n",
    "# Show the plot\n",
    "plt.show()"
   ]
  },
  {
   "cell_type": "code",
   "execution_count": 26,
   "metadata": {},
   "outputs": [
    {
     "data": {
      "image/png": "[encoded data removed]",
      "text/plain": [
       "<Figure size 640x480 with 1 Axes>"
      ]
     },
     "metadata": {},
     "output_type": "display_data"
    }
   ],
   "source": [
    "# Create a crosstab of City and Poor Mental Health\n",
    "crosstab = pd.crosstab(data['City'], data['Poor Mental Health']).sort_values(by=True, ascending=True).tail(30)\n",
    "\n",
    "# Convert crosstab values to percentages of the total\n",
    "crosstab_percentage = crosstab.div(crosstab.sum(axis=1), axis=0) * 100\n",
    "\n",
    "# Sort the crosstab_percentage DataFrame by the percentage of \"Poor Mental Health = No\" in descending order\n",
    "crosstab_percentage_sorted = crosstab_percentage.sort_values(by=False, ascending=True)\n",
    "\n",
    "# Plot the sorted stacked bar chart with shades of blue\n",
    "crosstab_percentage_sorted.plot(kind='barh', stacked=True, color=['lightblue', 'mediumblue'])\n",
    "\n",
    "# Set the title and labels\n",
    "plt.title('City Breakdown by Poor Mental Health (Percentage)')\n",
    "plt.xlabel('Percentage')\n",
    "plt.ylabel('City')\n",
    "plt.legend(title='Poor Mental Health', labels=['No', 'Yes'])\n",
    "\n",
    "# Show the plot\n",
    "plt.show()"
   ]
  },
  {
   "cell_type": "code",
   "execution_count": 27,
   "metadata": {},
   "outputs": [
    {
     "data": {
      "image/png": "[encoded data removed]",
      "text/plain": [
       "<Figure size 640x480 with 1 Axes>"
      ]
     },
     "metadata": {},
     "output_type": "display_data"
    }
   ],
   "source": [
    "# Create a crosstab of Sleep Duration and Poor Mental Health\n",
    "crosstab = pd.crosstab(data['Sleep Duration'], data['Poor Mental Health']).sort_values(by=True, ascending=True).tail(30)\n",
    "\n",
    "# Convert crosstab values to percentages of the total\n",
    "crosstab_percentage = crosstab.div(crosstab.sum(axis=1), axis=0) * 100\n",
    "\n",
    "# Sort the crosstab_percentage DataFrame by the percentage of \"Poor Mental Health = No\" in descending order\n",
    "crosstab_percentage_sorted = crosstab_percentage.sort_values(by=False, ascending=True)\n",
    "\n",
    "# Plot the sorted stacked bar chart with shades of blue\n",
    "crosstab_percentage_sorted.plot(kind='barh', stacked=True, color=['lightblue', 'mediumblue'])\n",
    "\n",
    "# Set the title and labels\n",
    "plt.title('Sleep Duration Breakdown by Poor Mental Health (Percentage)')\n",
    "plt.xlabel('Percentage')\n",
    "plt.ylabel('Sleep Duration')\n",
    "plt.legend(title='Poor Mental Health', labels=['No', 'Yes'])\n",
    "\n",
    "# Show the plot\n",
    "plt.show()"
   ]
  },
  {
   "cell_type": "code",
   "execution_count": 28,
   "metadata": {},
   "outputs": [
    {
     "data": {
      "image/png": "[encoded data removed]",
      "text/plain": [
       "<Figure size 640x480 with 1 Axes>"
      ]
     },
     "metadata": {},
     "output_type": "display_data"
    }
   ],
   "source": [
    "# Create a crosstab of Degree and Poor Mental Health\n",
    "crosstab = pd.crosstab(data['Degree'], data['Poor Mental Health']).sort_values(by=True, ascending=True).tail(30)\n",
    "\n",
    "# Convert crosstab values to percentages of the total\n",
    "crosstab_percentage = crosstab.div(crosstab.sum(axis=1), axis=0) * 100\n",
    "\n",
    "# Sort the crosstab_percentage DataFrame by the percentage of \"Poor Mental Health = No\" in descending order\n",
    "crosstab_percentage_sorted = crosstab_percentage.sort_values(by=False, ascending=True)\n",
    "\n",
    "# Plot the sorted stacked bar chart with shades of blue\n",
    "crosstab_percentage_sorted.plot(kind='barh', stacked=True, color=['lightblue', 'mediumblue'])\n",
    "\n",
    "# Set the title and labels\n",
    "plt.title('Degree Breakdown by Poor Mental Health (Percentage)')\n",
    "plt.xlabel('Percentage')\n",
    "plt.ylabel('Degree')\n",
    "plt.legend(title='Poor Mental Health', labels=['No', 'Yes'])\n",
    "\n",
    "# Show the plot\n",
    "plt.show()"
   ]
  },
  {
   "cell_type": "code",
   "execution_count": 29,
   "metadata": {},
   "outputs": [],
   "source": [
    "data['Degree Modified'] = data['Degree'].apply(lambda x: 'MD' if x=='MD' else 'Law' if x.startswith('L') else 'Masters' if x.startswith('M') else 'Bachelors' if x.startswith('B') else \"PhD\" if x == 'PhD' else 'Others')"
   ]
  },
  {
   "cell_type": "code",
   "execution_count": 30,
   "metadata": {},
   "outputs": [
    {
     "data": {
      "image/png": "[encoded data removed]",
      "text/plain": [
       "<Figure size 640x480 with 1 Axes>"
      ]
     },
     "metadata": {},
     "output_type": "display_data"
    }
   ],
   "source": [
    "# Create a crosstab of Degree and Poor Mental Health\n",
    "crosstab = pd.crosstab(data['Degree Modified'], data['Poor Mental Health']).sort_values(by=True, ascending=True).tail(30)\n",
    "\n",
    "# Convert crosstab values to percentages of the total\n",
    "crosstab_percentage = crosstab.div(crosstab.sum(axis=1), axis=0) * 100\n",
    "\n",
    "# Sort the crosstab_percentage DataFrame by the percentage of \"Poor Mental Health = No\" in descending order\n",
    "crosstab_percentage_sorted = crosstab_percentage.sort_values(by=False, ascending=True)\n",
    "\n",
    "# Plot the sorted stacked bar chart with shades of blue\n",
    "crosstab_percentage_sorted.plot(kind='barh', stacked=True, color=['lightblue', 'mediumblue'])\n",
    "\n",
    "# Set the title and labels\n",
    "plt.title('Degree Breakdown by Poor Mental Health (Percentage)')\n",
    "plt.xlabel('Percentage')\n",
    "plt.ylabel('Degree Modified')\n",
    "plt.legend(title='Poor Mental Health', labels=['No', 'Yes'])\n",
    "\n",
    "# Show the plot\n",
    "plt.show()"
   ]
  },
  {
   "cell_type": "code",
   "execution_count": 31,
   "metadata": {},
   "outputs": [],
   "source": [
    "# I am going to get some sleep but probably eat like a graduate student. I don't want to work tooo hard.\n",
    "data_ben = data[\n",
    "    (data['Gender'] == 'Male') &\n",
    "    (data['Profession'] == 'Student') &\n",
    "    (data['Sleep Duration'].isin([\"'5-6 hours'\",\"'7-8 hours'\"])) &\n",
    "    (data['Dietary Habits'].isin(['Unhealthy', 'Moderate'])) &\n",
    "    (data['Work/Study Hours'] <= 8) &\n",
    "    ((data['Age'] >= 22) & (data['Age'] <= 29))   \n",
    "     ]"
   ]
  },
  {
   "cell_type": "code",
   "execution_count": 32,
   "metadata": {},
   "outputs": [
    {
     "data": {
      "image/png": "[encoded data removed]",
      "text/plain": [
       "<Figure size 640x480 with 1 Axes>"
      ]
     },
     "metadata": {},
     "output_type": "display_data"
    }
   ],
   "source": [
    "# Create a crosstab of Degree and Poor Mental Health\n",
    "crosstab = pd.crosstab(data_ben['Degree Modified'], data_ben['Poor Mental Health']).sort_values(by=True, ascending=True).tail(30)\n",
    "\n",
    "# Convert crosstab values to percentages of the total\n",
    "crosstab_percentage = crosstab.div(crosstab.sum(axis=1), axis=0) * 100\n",
    "\n",
    "# Sort the crosstab_percentage DataFrame by the percentage of \"Poor Mental Health = No\" in descending order\n",
    "crosstab_percentage_sorted = crosstab_percentage.sort_values(by=False, ascending=True)\n",
    "\n",
    "# Plot the sorted stacked bar chart with shades of blue\n",
    "crosstab_percentage_sorted.plot(kind='barh', stacked=True, color=['lightblue', 'mediumblue'])\n",
    "\n",
    "# Set the title and labels\n",
    "plt.title('Degree Breakdown by Poor Mental Health (Percentage)')\n",
    "plt.xlabel('Percentage')\n",
    "plt.ylabel('Degree Modified')\n",
    "plt.legend(title='Poor Mental Health', labels=['No', 'Yes'])\n",
    "\n",
    "# Show the plot\n",
    "plt.show()"
   ]
  },
  {
   "cell_type": "code",
   "execution_count": 33,
   "metadata": {},
   "outputs": [
    {
     "data": {
      "text/plain": [
       "Degree Modified\n",
       "Bachelors    814\n",
       "Masters      451\n",
       "Law           46\n",
       "Others        41\n",
       "MD            37\n",
       "PhD           28\n",
       "Name: count, dtype: int64"
      ]
     },
     "execution_count": 33,
     "metadata": {},
     "output_type": "execute_result"
    }
   ],
   "source": [
    "data_ben['Degree Modified'].value_counts()"
   ]
  }
 ],
 "metadata": {
  "kernelspec": {
   "display_name": "env",
   "language": "python",
   "name": "python3"
  },
  "language_info": {
   "codemirror_mode": {
    "name": "ipython",
    "version": 3
   },
   "file_extension": ".py",
   "mimetype": "text/x-python",
   "name": "python",
   "nbconvert_exporter": "python",
   "pygments_lexer": "ipython3",
   "version": "3.9.6"
  }
 },
 "nbformat": 4,
 "nbformat_minor": 2
}
