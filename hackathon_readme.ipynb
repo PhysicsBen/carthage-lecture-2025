{
 "cells": [
  {
   "cell_type": "markdown",
   "metadata": {},
   "source": [
    "# Hackathon prep\n",
    "\n",
    "source: https://collegescorecard.ed.gov/data"
   ]
  },
  {
   "cell_type": "code",
   "execution_count": 2,
   "metadata": {},
   "outputs": [],
   "source": [
    "import pandas as pd"
   ]
  },
  {
   "cell_type": "code",
   "execution_count": 4,
   "metadata": {},
   "outputs": [],
   "source": [
    "# LOAD DATA\n",
    "field_map = pd.read_csv('./data/field_map.csv')\n",
    "field_study_all_years_carthage = pd.read_csv('./data/field_study_all_years_carthage.csv')\n",
    "institution_all_years_carthage = pd.read_csv('./data/institution_all_years_carthage.csv')"
   ]
  },
  {
   "cell_type": "code",
   "execution_count": 5,
   "metadata": {},
   "outputs": [],
   "source": [
    "institution_all_years_carthage['FILE_YEAR'] = institution_all_years_carthage['file_name'].str.extract(r'(\\d{4})')[0].astype(int)"
   ]
  },
  {
   "cell_type": "code",
   "execution_count": 6,
   "metadata": {},
   "outputs": [],
   "source": [
    "non_null_columns = institution_all_years_carthage.columns[institution_all_years_carthage.notna().all()].tolist()\n",
    "non_null_columns_2015_on = institution_all_years_carthage.columns[institution_all_years_carthage[institution_all_years_carthage.FILE_YEAR>=2015].notna().all()].tolist()\n",
    "\n",
    "fully_populated_fields = field_map[field_map.source.isin(non_null_columns)]\n",
    "fully_populated_fields_2015_on = field_map[field_map.source.isin(non_null_columns_2015_on)]\n"
   ]
  },
  {
   "cell_type": "code",
   "execution_count": 8,
   "metadata": {},
   "outputs": [
    {
     "data": {
      "application/vnd.microsoft.datawrangler.viewer.v0+json": {
       "columns": [
        {
         "name": "index",
         "rawType": "int64",
         "type": "integer"
        },
        {
         "name": "source",
         "rawType": "object",
         "type": "string"
        },
        {
         "name": "type",
         "rawType": "object",
         "type": "unknown"
        },
        {
         "name": "description",
         "rawType": "object",
         "type": "string"
        },
        {
         "name": "index",
         "rawType": "object",
         "type": "unknown"
        },
        {
         "name": "map",
         "rawType": "object",
         "type": "unknown"
        },
        {
         "name": "calculate",
         "rawType": "object",
         "type": "unknown"
        }
       ],
       "conversionMethod": "pd.DataFrame",
       "ref": "be79d2cd-9c6e-4054-b812-213aef616dcd",
       "rows": [
        [
         "0",
         "UNITID",
         "integer",
         "Unit ID for institution",
         null,
         null,
         null
        ],
        [
         "1",
         "OPEID",
         null,
         "8-digit OPE ID for institution",
         "varchar(10)",
         null,
         null
        ],
        [
         "2",
         "OPEID6",
         null,
         "6-digit OPE ID for institution",
         "varchar(10)",
         null,
         null
        ],
        [
         "3",
         "INSTNM",
         "autocomplete",
         "Institution name",
         "fulltext",
         null,
         null
        ],
        [
         "4",
         "CITY",
         "autocomplete",
         "City",
         "varchar(200)",
         null,
         null
        ]
       ],
       "shape": {
        "columns": 6,
        "rows": 5
       }
      },
      "text/html": [
       "<div>\n",
       "<style scoped>\n",
       "    .dataframe tbody tr th:only-of-type {\n",
       "        vertical-align: middle;\n",
       "    }\n",
       "\n",
       "    .dataframe tbody tr th {\n",
       "        vertical-align: top;\n",
       "    }\n",
       "\n",
       "    .dataframe thead th {\n",
       "        text-align: right;\n",
       "    }\n",
       "</style>\n",
       "<table border=\"1\" class=\"dataframe\">\n",
       "  <thead>\n",
       "    <tr style=\"text-align: right;\">\n",
       "      <th></th>\n",
       "      <th>source</th>\n",
       "      <th>type</th>\n",
       "      <th>description</th>\n",
       "      <th>index</th>\n",
       "      <th>map</th>\n",
       "      <th>calculate</th>\n",
       "    </tr>\n",
       "  </thead>\n",
       "  <tbody>\n",
       "    <tr>\n",
       "      <th>0</th>\n",
       "      <td>UNITID</td>\n",
       "      <td>integer</td>\n",
       "      <td>Unit ID for institution</td>\n",
       "      <td>NaN</td>\n",
       "      <td>NaN</td>\n",
       "      <td>NaN</td>\n",
       "    </tr>\n",
       "    <tr>\n",
       "      <th>1</th>\n",
       "      <td>OPEID</td>\n",
       "      <td>NaN</td>\n",
       "      <td>8-digit OPE ID for institution</td>\n",
       "      <td>varchar(10)</td>\n",
       "      <td>NaN</td>\n",
       "      <td>NaN</td>\n",
       "    </tr>\n",
       "    <tr>\n",
       "      <th>2</th>\n",
       "      <td>OPEID6</td>\n",
       "      <td>NaN</td>\n",
       "      <td>6-digit OPE ID for institution</td>\n",
       "      <td>varchar(10)</td>\n",
       "      <td>NaN</td>\n",
       "      <td>NaN</td>\n",
       "    </tr>\n",
       "    <tr>\n",
       "      <th>3</th>\n",
       "      <td>INSTNM</td>\n",
       "      <td>autocomplete</td>\n",
       "      <td>Institution name</td>\n",
       "      <td>fulltext</td>\n",
       "      <td>NaN</td>\n",
       "      <td>NaN</td>\n",
       "    </tr>\n",
       "    <tr>\n",
       "      <th>4</th>\n",
       "      <td>CITY</td>\n",
       "      <td>autocomplete</td>\n",
       "      <td>City</td>\n",
       "      <td>varchar(200)</td>\n",
       "      <td>NaN</td>\n",
       "      <td>NaN</td>\n",
       "    </tr>\n",
       "  </tbody>\n",
       "</table>\n",
       "</div>"
      ],
      "text/plain": [
       "   source          type                     description         index  map  \\\n",
       "0  UNITID       integer         Unit ID for institution           NaN  NaN   \n",
       "1   OPEID           NaN  8-digit OPE ID for institution   varchar(10)  NaN   \n",
       "2  OPEID6           NaN  6-digit OPE ID for institution   varchar(10)  NaN   \n",
       "3  INSTNM  autocomplete                Institution name      fulltext  NaN   \n",
       "4    CITY  autocomplete                            City  varchar(200)  NaN   \n",
       "\n",
       "  calculate  \n",
       "0       NaN  \n",
       "1       NaN  \n",
       "2       NaN  \n",
       "3       NaN  \n",
       "4       NaN  "
      ]
     },
     "execution_count": 8,
     "metadata": {},
     "output_type": "execute_result"
    }
   ],
   "source": [
    "fully_populated_fields.head()"
   ]
  },
  {
   "cell_type": "code",
   "execution_count": 9,
   "metadata": {},
   "outputs": [
    {
     "data": {
      "application/vnd.microsoft.datawrangler.viewer.v0+json": {
       "columns": [
        {
         "name": "index",
         "rawType": "int64",
         "type": "integer"
        },
        {
         "name": "source",
         "rawType": "object",
         "type": "string"
        },
        {
         "name": "type",
         "rawType": "object",
         "type": "unknown"
        },
        {
         "name": "description",
         "rawType": "object",
         "type": "string"
        },
        {
         "name": "index",
         "rawType": "object",
         "type": "unknown"
        },
        {
         "name": "map",
         "rawType": "object",
         "type": "unknown"
        },
        {
         "name": "calculate",
         "rawType": "object",
         "type": "unknown"
        }
       ],
       "conversionMethod": "pd.DataFrame",
       "ref": "26cc5402-7763-4faf-9f26-fbeb3ebc5c2a",
       "rows": [
        [
         "0",
         "UNITID",
         "integer",
         "Unit ID for institution",
         null,
         null,
         null
        ],
        [
         "1",
         "OPEID",
         null,
         "8-digit OPE ID for institution",
         "varchar(10)",
         null,
         null
        ],
        [
         "2",
         "OPEID6",
         null,
         "6-digit OPE ID for institution",
         "varchar(10)",
         null,
         null
        ],
        [
         "3",
         "INSTNM",
         "autocomplete",
         "Institution name",
         "fulltext",
         null,
         null
        ],
        [
         "4",
         "CITY",
         "autocomplete",
         "City",
         "varchar(200)",
         null,
         null
        ]
       ],
       "shape": {
        "columns": 6,
        "rows": 5
       }
      },
      "text/html": [
       "<div>\n",
       "<style scoped>\n",
       "    .dataframe tbody tr th:only-of-type {\n",
       "        vertical-align: middle;\n",
       "    }\n",
       "\n",
       "    .dataframe tbody tr th {\n",
       "        vertical-align: top;\n",
       "    }\n",
       "\n",
       "    .dataframe thead th {\n",
       "        text-align: right;\n",
       "    }\n",
       "</style>\n",
       "<table border=\"1\" class=\"dataframe\">\n",
       "  <thead>\n",
       "    <tr style=\"text-align: right;\">\n",
       "      <th></th>\n",
       "      <th>source</th>\n",
       "      <th>type</th>\n",
       "      <th>description</th>\n",
       "      <th>index</th>\n",
       "      <th>map</th>\n",
       "      <th>calculate</th>\n",
       "    </tr>\n",
       "  </thead>\n",
       "  <tbody>\n",
       "    <tr>\n",
       "      <th>0</th>\n",
       "      <td>UNITID</td>\n",
       "      <td>integer</td>\n",
       "      <td>Unit ID for institution</td>\n",
       "      <td>NaN</td>\n",
       "      <td>NaN</td>\n",
       "      <td>NaN</td>\n",
       "    </tr>\n",
       "    <tr>\n",
       "      <th>1</th>\n",
       "      <td>OPEID</td>\n",
       "      <td>NaN</td>\n",
       "      <td>8-digit OPE ID for institution</td>\n",
       "      <td>varchar(10)</td>\n",
       "      <td>NaN</td>\n",
       "      <td>NaN</td>\n",
       "    </tr>\n",
       "    <tr>\n",
       "      <th>2</th>\n",
       "      <td>OPEID6</td>\n",
       "      <td>NaN</td>\n",
       "      <td>6-digit OPE ID for institution</td>\n",
       "      <td>varchar(10)</td>\n",
       "      <td>NaN</td>\n",
       "      <td>NaN</td>\n",
       "    </tr>\n",
       "    <tr>\n",
       "      <th>3</th>\n",
       "      <td>INSTNM</td>\n",
       "      <td>autocomplete</td>\n",
       "      <td>Institution name</td>\n",
       "      <td>fulltext</td>\n",
       "      <td>NaN</td>\n",
       "      <td>NaN</td>\n",
       "    </tr>\n",
       "    <tr>\n",
       "      <th>4</th>\n",
       "      <td>CITY</td>\n",
       "      <td>autocomplete</td>\n",
       "      <td>City</td>\n",
       "      <td>varchar(200)</td>\n",
       "      <td>NaN</td>\n",
       "      <td>NaN</td>\n",
       "    </tr>\n",
       "  </tbody>\n",
       "</table>\n",
       "</div>"
      ],
      "text/plain": [
       "   source          type                     description         index  map  \\\n",
       "0  UNITID       integer         Unit ID for institution           NaN  NaN   \n",
       "1   OPEID           NaN  8-digit OPE ID for institution   varchar(10)  NaN   \n",
       "2  OPEID6           NaN  6-digit OPE ID for institution   varchar(10)  NaN   \n",
       "3  INSTNM  autocomplete                Institution name      fulltext  NaN   \n",
       "4    CITY  autocomplete                            City  varchar(200)  NaN   \n",
       "\n",
       "  calculate  \n",
       "0       NaN  \n",
       "1       NaN  \n",
       "2       NaN  \n",
       "3       NaN  \n",
       "4       NaN  "
      ]
     },
     "execution_count": 9,
     "metadata": {},
     "output_type": "execute_result"
    }
   ],
   "source": [
    "fully_populated_fields_2015_on.head()"
   ]
  },
  {
   "cell_type": "code",
   "execution_count": 64,
   "metadata": {},
   "outputs": [
    {
     "data": {
      "text/plain": [
       "<Axes: title={'center': 'Percentage of degrees awarded in Health Professions And Related Programs.'}, xlabel='FILE_YEAR'>"
      ]
     },
     "execution_count": 64,
     "metadata": {},
     "output_type": "execute_result"
    },
    {
     "data": {
      "image/png": "[encoded data removed]",
      "text/plain": [
       "<Figure size 640x480 with 1 Axes>"
      ]
     },
     "metadata": {},
     "output_type": "display_data"
    }
   ],
   "source": [
    "institution_all_years_carthage.plot(x='FILE_YEAR', y='PCIP51', kind='bar', title=field_map[field_map.source=='PCIP51'].description.values[0])"
   ]
  },
  {
   "cell_type": "code",
   "execution_count": 65,
   "metadata": {},
   "outputs": [
    {
     "data": {
      "text/plain": [
       "<Axes: title={'center': 'Percentage of degrees awarded in Physical Sciences.'}, xlabel='FILE_YEAR'>"
      ]
     },
     "execution_count": 65,
     "metadata": {},
     "output_type": "execute_result"
    },
    {
     "data": {
      "image/png": "[encoded data removed]",
      "text/plain": [
       "<Figure size 640x480 with 1 Axes>"
      ]
     },
     "metadata": {},
     "output_type": "display_data"
    }
   ],
   "source": [
    "institution_all_years_carthage.plot(x='FILE_YEAR', y='PCIP40', kind='bar', title=field_map[field_map.source=='PCIP40'].description.values[0])"
   ]
  },
  {
   "cell_type": "code",
   "execution_count": 69,
   "metadata": {},
   "outputs": [
    {
     "data": {
      "text/plain": [
       "<Axes: title={'center': 'Percentage of Degrees Awarded \\n Physical Sciences (BLUE) vs Health Professions (ORANGE)'}, xlabel='FILE_YEAR'>"
      ]
     },
     "execution_count": 69,
     "metadata": {},
     "output_type": "execute_result"
    },
    {
     "data": {
      "image/png": "[encoded data removed]",
      "text/plain": [
       "<Figure size 640x480 with 1 Axes>"
      ]
     },
     "metadata": {},
     "output_type": "display_data"
    }
   ],
   "source": [
    "institution_all_years_carthage.plot(x='FILE_YEAR', y=['PCIP40', 'PCIP51'], kind='bar', title=\"Percentage of Degrees Awarded \\n Physical Sciences (BLUE) vs Health Professions (ORANGE)\")"
   ]
  }
 ],
 "metadata": {
  "kernelspec": {
   "display_name": "env",
   "language": "python",
   "name": "python3"
  },
  "language_info": {
   "codemirror_mode": {
    "name": "ipython",
    "version": 3
   },
   "file_extension": ".py",
   "mimetype": "text/x-python",
   "name": "python",
   "nbconvert_exporter": "python",
   "pygments_lexer": "ipython3",
   "version": "3.9.6"
  }
 },
 "nbformat": 4,
 "nbformat_minor": 2
}
